{
 "cells": [
  {
   "cell_type": "code",
   "execution_count": 4,
   "id": "4b6ceb6b",
   "metadata": {},
   "outputs": [],
   "source": [
    "import numpy as np\n",
    "import pandas as pd\n"
   ]
  },
  {
   "cell_type": "code",
   "execution_count": 47,
   "id": "03352acd",
   "metadata": {},
   "outputs": [],
   "source": [
    "data = pd.DataFrame({\n",
    "    'Outlook': ['Rainy', 'Sunny', 'Overcast', 'Overcast', 'Sunny', 'Rainy', 'Sunny', 'Overcast', 'Rainy', 'Sunny', 'Sunny', 'Rainy', 'Overcast', 'Overcast'],\n",
    "    'Play': ['Yes', 'Yes', 'Yes', 'Yes', 'No', 'Yes', 'Yes', 'Yes', 'No', 'No', 'Yes', 'No', 'Yes', 'Yes']\n",
    "})\n"
   ]
  },
  {
   "cell_type": "code",
   "execution_count": 48,
   "id": "4c9d289e",
   "metadata": {},
   "outputs": [],
   "source": [
    "data['Outlook'] = data['Outlook'].map({'Sunny': 1, 'Rainy': 0, 'Overcast': 0})\n",
    "data['Play'] = data['Play'].map({'Yes': 1, 'No': 0})\n",
    "X = data['Outlook'].values\n",
    "y = data['Play'].values\n"
   ]
  },
  {
   "cell_type": "code",
   "execution_count": 49,
   "id": "b717af2e",
   "metadata": {},
   "outputs": [],
   "source": [
    "class BernoulliNaiveBayes:\n",
    "    def __init__(self):\n",
    "        self.class_probs = {}\n",
    "        self.feature_probs = {}\n",
    "\n",
    "    def fit(self, X, y):\n",
    "        self.class_probs[1] = np.mean(y)  # Probability of 'Yes' (Play)\n",
    "        self.class_probs[0] = 1 - self.class_probs[1]  # Probability of 'No' (Don't Play)\n",
    "\n",
    "        for i in range(2):  # For each class (1 and 0)\n",
    "            class_mask = y == i\n",
    "            class_data = X[class_mask]\n",
    "            self.feature_probs[i] = {\n",
    "                feature: (class_data == feature).sum() / len(class_data) for feature in np.unique(X)\n",
    "            }\n",
    "\n",
    "    def predict(self, X):\n",
    "        predictions = []\n",
    "\n",
    "        for i in range(X.shape[0]):\n",
    "            x = X[i]\n",
    "            probs = {\n",
    "                c: np.log(self.class_probs[c]) + np.sum(np.fromiter(\n",
    "                    (np.log(self.feature_probs[c].get(f, 1e-10)) if f == 1 else np.log(1 - self.feature_probs[c].get(f, 1e-10))\n",
    "                    for f, c in zip(x, [1, 0])),float)\n",
    "                ) for c in [1, 0]\n",
    "            }\n",
    "            predictions.append(1 if probs[1] >= probs[0] else 0)\n",
    "\n",
    "        return np.array(predictions)\n",
    "\n",
    "\n",
    "\n",
    "# Create and train the Bernoulli Naive Bayes model\n",
    "model = BernoulliNaiveBayes()\n",
    "model.fit(X, y)\n"
   ]
  },
  {
   "cell_type": "code",
   "execution_count": 58,
   "id": "a9963876",
   "metadata": {},
   "outputs": [
    {
     "name": "stdout",
     "output_type": "stream",
     "text": [
      "[[1]\n",
      " [1]]\n"
     ]
    },
    {
     "data": {
      "text/plain": [
       "array([1, 1])"
      ]
     },
     "execution_count": 58,
     "metadata": {},
     "output_type": "execute_result"
    }
   ],
   "source": [
    "new_data = np.array([[1], [1]])\n",
    "print(new_data)\n",
    "predictions = model.predict(new_data)\n",
    "predictions"
   ]
  },
  {
   "cell_type": "code",
   "execution_count": 59,
   "id": "fffbda4e",
   "metadata": {},
   "outputs": [],
   "source": [
    "# accuracy = np.mean(y == model.predict(X))\n",
    "# print(\"Accuracy:\", accuracy)\n"
   ]
  },
  {
   "cell_type": "code",
   "execution_count": null,
   "id": "ee03d49b",
   "metadata": {},
   "outputs": [],
   "source": []
  },
  {
   "cell_type": "code",
   "execution_count": null,
   "id": "5555d8ea",
   "metadata": {},
   "outputs": [],
   "source": []
  },
  {
   "cell_type": "markdown",
   "id": "04ad8a11",
   "metadata": {},
   "source": [
    "#### Approach 2"
   ]
  },
  {
   "cell_type": "code",
   "execution_count": 60,
   "id": "29bc56a5",
   "metadata": {},
   "outputs": [],
   "source": [
    "import numpy as np\n",
    "import pandas as pd\n"
   ]
  },
  {
   "cell_type": "code",
   "execution_count": 61,
   "id": "ee6df657",
   "metadata": {},
   "outputs": [],
   "source": [
    "data = pd.DataFrame({\n",
    "    'Outlook': ['Rainy', 'Rainy', 'Overcast', 'Sunny', 'Sunny', 'Sunny', 'Overcast', 'Rainy', 'Rainy', 'Sunny', 'Rainy', 'Overcast', 'Overcast', 'Sunny'],\n",
    "    'Temperature': ['Hot', 'Hot', 'Hot', 'Mild', 'Cool', 'Cool', 'Cool', 'Mild', 'Cool', 'Mild', 'Mild', 'Mild', 'Hot', 'Mild'],\n",
    "    'Humidity': ['High', 'High', 'High', 'High', 'Normal', 'Normal', 'Normal', 'High', 'Normal', 'Normal', 'Normal', 'High', 'Normal', 'High'],\n",
    "    'Windy': [False, True, False, False, False, True, True, False, False, False, True, True, False, True],\n",
    "    'Play Golf': ['No', 'No', 'Yes', 'Yes', 'Yes', 'No', 'Yes', 'No', 'Yes', 'Yes', 'Yes', 'Yes', 'Yes', 'No']\n",
    "})\n"
   ]
  },
  {
   "cell_type": "code",
   "execution_count": 62,
   "id": "63a2e3c5",
   "metadata": {},
   "outputs": [],
   "source": [
    "data['Outlook'] = data['Outlook'].map({'Sunny': 1, 'Rainy': 0, 'Overcast': 0})\n",
    "data['Temperature'] = data['Temperature'].map({'Hot': 0, 'Mild': 1, 'Cool': 2})\n",
    "data['Humidity'] = data['Humidity'].map({'High': 0, 'Normal': 1})\n",
    "data['Play Golf'] = data['Play Golf'].map({'Yes': 1, 'No': 0})\n",
    "\n",
    "X = data[['Outlook', 'Temperature', 'Humidity', 'Windy']].values\n",
    "y = data['Play Golf'].values\n"
   ]
  },
  {
   "cell_type": "code",
   "execution_count": 76,
   "id": "386c4e7c",
   "metadata": {},
   "outputs": [],
   "source": [
    "class BernoulliNaiveBayes:\n",
    "    def __init__(self):\n",
    "        self.class_probs = {}\n",
    "        self.feature_probs = {}\n",
    "\n",
    "    def fit(self, X, y):\n",
    "        self.class_probs[1] = np.mean(y)  # Probability of 'Yes' (Play Golf)\n",
    "        self.class_probs[0] = 1 - self.class_probs[1]  # Probability of 'No' (Don't Play Golf)\n",
    "\n",
    "        for i in range(2):  # For each class (1 and 0)\n",
    "            class_mask = y == i\n",
    "            class_data = X[class_mask]\n",
    "            self.feature_probs[i] = {}\n",
    "\n",
    "            for j in range(X.shape[1]):  # Iterate through each feature\n",
    "                unique_features = np.unique(X[:, j])\n",
    "                self.feature_probs[i][j] = {\n",
    "                    feature: (class_data[:, j] == feature).sum() / len(class_data) for feature in unique_features\n",
    "                }\n",
    "\n",
    "    def predict(self, X):\n",
    "        predictions = []\n",
    "\n",
    "        for i in range(X.shape[0]):\n",
    "            x = X[i]\n",
    "            probs = {\n",
    "                c: np.log(self.class_probs[c]) + np.sum(np.fromiter(\n",
    "                    (np.log(self.feature_probs[c].get(f, 1e-10)) if f == 1 else np.log(1 - self.feature_probs[c].get(f, 1e-10))\n",
    "                    for f, c in zip(x, [1, 0])),float)\n",
    "                ) for c in [1, 0]\n",
    "            }\n",
    "            predictions.append(1 if probs[1] >= probs[0] else 0)\n",
    "            \n",
    "            probs = {\n",
    "                c: np.log(self.class_probs[c]) + np.sum(np.fromtier(\n",
    "                    (np.log(self.feature_probs[c][j].get(f, 1e-10)) if f == 1 else np.log(1 - self.feature_probs[c][j].get(f, 1e-10))\n",
    "                    for j, f, c in zip(range(X.shape[1]), x, [1, 0])),float)\n",
    "                ) for c in [1, 0]\n",
    "            }\n",
    "            predictions.append(1 if probs[1] >= probs[0] else 0)\n",
    "\n",
    "        return np.array(predictions)\n",
    "\n"
   ]
  },
  {
   "cell_type": "code",
   "execution_count": 79,
   "id": "397c4d6b",
   "metadata": {},
   "outputs": [],
   "source": [
    "class BernoulliNaiveBayes:\n",
    "    def __init__(self):\n",
    "        self.class_probs = {}\n",
    "        self.feature_probs = {}\n",
    "\n",
    "    def fit(self, X, y):\n",
    "        self.class_probs[1] = np.mean(y)  # Probability of 'Yes' (Play Golf)\n",
    "        self.class_probs[0] = 1 - self.class_probs[1]  # Probability of 'No' (Don't Play Golf)\n",
    "\n",
    "        for i in range(2):  # For each class (1 and 0)\n",
    "            class_mask = y == i\n",
    "            class_data = X[class_mask]\n",
    "            self.feature_probs[i] = {}\n",
    "\n",
    "            for j in range(X.shape[1]):  # Iterate through each feature\n",
    "                unique_features = np.unique(X[:, j])\n",
    "                self.feature_probs[i][j] = {\n",
    "                    feature: (class_data[:, j] == feature).sum() / len(class_data) for feature in unique_features\n",
    "                }\n",
    "\n",
    "    def predict(self, X):\n",
    "        predictions = []\n",
    "\n",
    "        for i in range(X.shape[0]):\n",
    "            x = X[i]\n",
    "            probs = {\n",
    "                c: np.log(self.class_probs[c]) + np.sum([\n",
    "                    np.log(self.feature_probs[c][j].get(f, 1e-10)) if f == 1 else np.log(1 - self.feature_probs[c][j].get(f, 1e-10))\n",
    "                    for j, f in enumerate(x)\n",
    "                ]) for c in [1, 0]\n",
    "            }\n",
    "            predictions.append(1 if probs[1] >= probs[0] else 0)\n",
    "\n",
    "        return np.array(predictions)\n"
   ]
  },
  {
   "cell_type": "code",
   "execution_count": 80,
   "id": "ac37c488",
   "metadata": {},
   "outputs": [],
   "source": [
    "model = BernoulliNaiveBayes()\n",
    "model.fit(X, y)\n"
   ]
  },
  {
   "cell_type": "code",
   "execution_count": 89,
   "id": "e08114f2",
   "metadata": {},
   "outputs": [
    {
     "data": {
      "text/plain": [
       "array([1, 1])"
      ]
     },
     "execution_count": 89,
     "metadata": {},
     "output_type": "execute_result"
    }
   ],
   "source": [
    "new_data = np.array([[1, 0, 1, False], [0, 1, 0, False]])\n",
    "predictions = model.predict(new_data)\n",
    "predictions\n"
   ]
  },
  {
   "cell_type": "code",
   "execution_count": null,
   "id": "9d5543c3",
   "metadata": {},
   "outputs": [],
   "source": [
    "# Load the data\n",
    "# data = pd.DataFrame({\n",
    "#     'Outlook': ['Rainy', 'Rainy', 'Overcast', 'Sunny', 'Sunny', 'Sunny', 'Overcast', 'Rainy', 'Rainy', 'Sunny', 'Rainy', 'Overcast', 'Overcast', 'Sunny'],\n",
    "#     'Temperature': ['Hot', 'Hot', 'Hot', 'Mild', 'Cool', 'Cool', 'Cool', 'Mild', 'Cool', 'Mild', 'Mild', 'Mild', 'Hot', 'Mild'],\n",
    "#     'Humidity': ['High', 'High', 'High', 'High', 'Normal', 'Normal', 'Normal', 'High', 'Normal', 'Normal', 'Normal', 'High', 'Normal', 'High'],\n",
    "#     'Windy': [False, True, False, False, False, True, True, False, False, False, True, True, False, True],\n",
    "#     'Play Golf': ['No', 'No', 'Yes', 'Yes', 'Yes', 'No', 'Yes', 'No', 'Yes', 'Yes', 'Yes', 'Yes', 'Yes', 'No']\n",
    "# })"
   ]
  },
  {
   "cell_type": "code",
   "execution_count": null,
   "id": "fcbf5b48",
   "metadata": {},
   "outputs": [],
   "source": []
  },
  {
   "cell_type": "code",
   "execution_count": null,
   "id": "f92db617",
   "metadata": {},
   "outputs": [],
   "source": []
  },
  {
   "cell_type": "code",
   "execution_count": null,
   "id": "dcfc4263",
   "metadata": {},
   "outputs": [],
   "source": []
  },
  {
   "cell_type": "code",
   "execution_count": null,
   "id": "5549b3d0",
   "metadata": {},
   "outputs": [],
   "source": []
  },
  {
   "cell_type": "code",
   "execution_count": null,
   "id": "38c471a6",
   "metadata": {},
   "outputs": [],
   "source": []
  },
  {
   "cell_type": "markdown",
   "id": "76be36f6",
   "metadata": {},
   "source": [
    "## Approach 2"
   ]
  },
  {
   "cell_type": "code",
   "execution_count": 31,
   "id": "4d921949",
   "metadata": {},
   "outputs": [],
   "source": [
    "import numpy as np\n",
    "import pandas as pd\n",
    "\n",
    "\n",
    "# Reading the data from csv file golf_data.csv\n",
    "data = pd.read_csv('golf_data.csv')\n"
   ]
  },
  {
   "cell_type": "code",
   "execution_count": 32,
   "id": "86524c44",
   "metadata": {},
   "outputs": [],
   "source": [
    "\n",
    "# Calculating prior probabilities that is P(A) = instance/total_instance\n",
    "total_instances = len(data)\n",
    "prior_prob_yes = (data['Play Golf'] == 'Yes').sum() / total_instances\n",
    "prior_prob_no = (data['Play Golf'] == 'No').sum() / total_instances\n",
    "\n",
    "# Calculating likelihood probabilities for every feature-value : outcome\n",
    "likelihood_probs = {}\n",
    "for feature in ['Outlook', 'Temperature', 'Humidity', 'Windy']:\n",
    "    for value in data[feature].unique():\n",
    "        for outcome in ['Yes', 'No']:\n",
    "            count = ((data[feature] == value) & (data['Play Golf'] == outcome)).sum()\n",
    "#             Total number of yes's and no's separately\n",
    "            total_outcome = (data['Play Golf'] == outcome).sum() \n",
    "            likelihood_probs[(feature, value, outcome)] = count / total_outcome\n",
    "# likelihood_probs"
   ]
  },
  {
   "cell_type": "code",
   "execution_count": 33,
   "id": "19525a4c",
   "metadata": {},
   "outputs": [
    {
     "data": {
      "text/html": [
       "<div>\n",
       "<style scoped>\n",
       "    .dataframe tbody tr th:only-of-type {\n",
       "        vertical-align: middle;\n",
       "    }\n",
       "\n",
       "    .dataframe tbody tr th {\n",
       "        vertical-align: top;\n",
       "    }\n",
       "\n",
       "    .dataframe thead th {\n",
       "        text-align: right;\n",
       "    }\n",
       "</style>\n",
       "<table border=\"1\" class=\"dataframe\">\n",
       "  <thead>\n",
       "    <tr style=\"text-align: right;\">\n",
       "      <th></th>\n",
       "      <th></th>\n",
       "      <th></th>\n",
       "      <th>Probability</th>\n",
       "    </tr>\n",
       "    <tr>\n",
       "      <th>Attribute</th>\n",
       "      <th>Value</th>\n",
       "      <th>Outcome</th>\n",
       "      <th></th>\n",
       "    </tr>\n",
       "  </thead>\n",
       "  <tbody>\n",
       "    <tr>\n",
       "      <th rowspan=\"6\" valign=\"top\">Outlook</th>\n",
       "      <th rowspan=\"2\" valign=\"top\">Rainy</th>\n",
       "      <th>Yes</th>\n",
       "      <td>0.222222</td>\n",
       "    </tr>\n",
       "    <tr>\n",
       "      <th>No</th>\n",
       "      <td>0.600000</td>\n",
       "    </tr>\n",
       "    <tr>\n",
       "      <th rowspan=\"2\" valign=\"top\">Overcast</th>\n",
       "      <th>Yes</th>\n",
       "      <td>0.444444</td>\n",
       "    </tr>\n",
       "    <tr>\n",
       "      <th>No</th>\n",
       "      <td>0.000000</td>\n",
       "    </tr>\n",
       "    <tr>\n",
       "      <th rowspan=\"2\" valign=\"top\">Sunny</th>\n",
       "      <th>Yes</th>\n",
       "      <td>0.333333</td>\n",
       "    </tr>\n",
       "    <tr>\n",
       "      <th>No</th>\n",
       "      <td>0.400000</td>\n",
       "    </tr>\n",
       "    <tr>\n",
       "      <th rowspan=\"6\" valign=\"top\">Temperature</th>\n",
       "      <th rowspan=\"2\" valign=\"top\">Hot</th>\n",
       "      <th>Yes</th>\n",
       "      <td>0.222222</td>\n",
       "    </tr>\n",
       "    <tr>\n",
       "      <th>No</th>\n",
       "      <td>0.400000</td>\n",
       "    </tr>\n",
       "    <tr>\n",
       "      <th rowspan=\"2\" valign=\"top\">Mild</th>\n",
       "      <th>Yes</th>\n",
       "      <td>0.444444</td>\n",
       "    </tr>\n",
       "    <tr>\n",
       "      <th>No</th>\n",
       "      <td>0.400000</td>\n",
       "    </tr>\n",
       "    <tr>\n",
       "      <th rowspan=\"2\" valign=\"top\">Cool</th>\n",
       "      <th>Yes</th>\n",
       "      <td>0.333333</td>\n",
       "    </tr>\n",
       "    <tr>\n",
       "      <th>No</th>\n",
       "      <td>0.200000</td>\n",
       "    </tr>\n",
       "    <tr>\n",
       "      <th rowspan=\"4\" valign=\"top\">Humidity</th>\n",
       "      <th rowspan=\"2\" valign=\"top\">High</th>\n",
       "      <th>Yes</th>\n",
       "      <td>0.333333</td>\n",
       "    </tr>\n",
       "    <tr>\n",
       "      <th>No</th>\n",
       "      <td>0.800000</td>\n",
       "    </tr>\n",
       "    <tr>\n",
       "      <th rowspan=\"2\" valign=\"top\">Normal</th>\n",
       "      <th>Yes</th>\n",
       "      <td>0.666667</td>\n",
       "    </tr>\n",
       "    <tr>\n",
       "      <th>No</th>\n",
       "      <td>0.200000</td>\n",
       "    </tr>\n",
       "    <tr>\n",
       "      <th rowspan=\"4\" valign=\"top\">Windy</th>\n",
       "      <th rowspan=\"2\" valign=\"top\">False</th>\n",
       "      <th>Yes</th>\n",
       "      <td>0.666667</td>\n",
       "    </tr>\n",
       "    <tr>\n",
       "      <th>No</th>\n",
       "      <td>0.400000</td>\n",
       "    </tr>\n",
       "    <tr>\n",
       "      <th rowspan=\"2\" valign=\"top\">True</th>\n",
       "      <th>Yes</th>\n",
       "      <td>0.333333</td>\n",
       "    </tr>\n",
       "    <tr>\n",
       "      <th>No</th>\n",
       "      <td>0.600000</td>\n",
       "    </tr>\n",
       "  </tbody>\n",
       "</table>\n",
       "</div>"
      ],
      "text/plain": [
       "                              Probability\n",
       "Attribute   Value    Outcome             \n",
       "Outlook     Rainy    Yes         0.222222\n",
       "                     No          0.600000\n",
       "            Overcast Yes         0.444444\n",
       "                     No          0.000000\n",
       "            Sunny    Yes         0.333333\n",
       "                     No          0.400000\n",
       "Temperature Hot      Yes         0.222222\n",
       "                     No          0.400000\n",
       "            Mild     Yes         0.444444\n",
       "                     No          0.400000\n",
       "            Cool     Yes         0.333333\n",
       "                     No          0.200000\n",
       "Humidity    High     Yes         0.333333\n",
       "                     No          0.800000\n",
       "            Normal   Yes         0.666667\n",
       "                     No          0.200000\n",
       "Windy       False    Yes         0.666667\n",
       "                     No          0.400000\n",
       "            True     Yes         0.333333\n",
       "                     No          0.600000"
      ]
     },
     "execution_count": 33,
     "metadata": {},
     "output_type": "execute_result"
    }
   ],
   "source": [
    "likelihood_data = likelihood_probs\n",
    "\n",
    "# Convert the data to a Pandas DataFrame\n",
    "likelyhood_data_disp = pd.DataFrame(likelihood_data.values(), index=pd.MultiIndex.from_tuples(likelihood_data.keys(), names=['Attribute', 'Value', 'Outcome']), columns=['Probability'])\n",
    "\n",
    "# Display the DataFrame\n",
    "likelyhood_data_disp\n"
   ]
  },
  {
   "cell_type": "code",
   "execution_count": 34,
   "id": "43f64af4",
   "metadata": {},
   "outputs": [
    {
     "name": "stdout",
     "output_type": "stream",
     "text": [
      "Enter Outlook: Sunny, Rainy, Overcast - Rainy\n",
      "Enter Temperature: Hot , Mild, Cool - Mild\n",
      "Enter Humidity: High , Normal - High\n",
      "Enter Windy: True , False - True\n"
     ]
    }
   ],
   "source": [
    "\n",
    "# Entering New data point\n",
    "outlook = input(\"Enter Outlook: Sunny, Rainy, Overcast - \")\n",
    "temperature = input(\"Enter Temperature: Hot , Mild, Cool - \")\n",
    "humidity = input(\"Enter Humidity: High , Normal - \")\n",
    "windy = input(\"Enter Windy: True , False - \")\n",
    "\n",
    "if windy == 'True':\n",
    "    windy = True\n",
    "elif windy == 'False':\n",
    "    windy = False\n",
    "new_data = {\n",
    "    'Outlook': outlook,\n",
    "    'Temperature': temperature,\n",
    "    'Humidity': humidity,\n",
    "    'Windy': windy\n",
    "}"
   ]
  },
  {
   "cell_type": "code",
   "execution_count": 35,
   "id": "5dbad0dc",
   "metadata": {
    "scrolled": true
   },
   "outputs": [
    {
     "name": "stdout",
     "output_type": "stream",
     "text": [
      "Probability of 'Yes': 0.1464\n",
      "Probability of 'No': 0.8536\n",
      "Predicted class: No\n"
     ]
    }
   ],
   "source": [
    "\n",
    "# Calculating posterior probabilities that is dependent probability on other event already happened means likelihood muliplied\n",
    "posterior_prob_yes = prior_prob_yes\n",
    "posterior_prob_no = prior_prob_no\n",
    "\n",
    "for feature, value in new_data.items():\n",
    "    posterior_prob_yes *= likelihood_probs.get((feature, value, 'Yes'), 1e-10)\n",
    "    posterior_prob_no *= likelihood_probs.get((feature, value, 'No'), 1e-10)\n",
    "\n",
    "# Normalizing probabilities\n",
    "total_prob = posterior_prob_yes + posterior_prob_no\n",
    "posterior_prob_yes /= total_prob\n",
    "posterior_prob_no /= total_prob\n",
    "\n",
    "# Predict the class having higher probability\n",
    "prediction = 'Yes' if posterior_prob_yes > posterior_prob_no else 'No'\n",
    "print(f\"Probability of 'Yes': {posterior_prob_yes:.4f}\")\n",
    "print(f\"Probability of 'No': {posterior_prob_no:.4f}\")\n",
    "print(f\"Predicted class: {prediction}\")\n",
    "\n",
    "# Rainy , Mild, High, True -> No\n",
    "# Sunny , Mild, High, False -> Yes\n",
    "# Overcast, Mild, High, False -> Yes"
   ]
  },
  {
   "cell_type": "code",
   "execution_count": null,
   "id": "153b1010",
   "metadata": {},
   "outputs": [],
   "source": []
  }
 ],
 "metadata": {
  "kernelspec": {
   "display_name": "Python 3 (ipykernel)",
   "language": "python",
   "name": "python3"
  },
  "language_info": {
   "codemirror_mode": {
    "name": "ipython",
    "version": 3
   },
   "file_extension": ".py",
   "mimetype": "text/x-python",
   "name": "python",
   "nbconvert_exporter": "python",
   "pygments_lexer": "ipython3",
   "version": "3.9.13"
  }
 },
 "nbformat": 4,
 "nbformat_minor": 5
}
