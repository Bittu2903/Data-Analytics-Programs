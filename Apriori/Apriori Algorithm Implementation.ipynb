{
 "cells": [
  {
   "cell_type": "markdown",
   "id": "e05619bf",
   "metadata": {},
   "source": [
    "## Define Transactions"
   ]
  },
  {
   "cell_type": "code",
   "execution_count": 32,
   "id": "e8614543",
   "metadata": {},
   "outputs": [
    {
     "name": "stdout",
     "output_type": "stream",
     "text": [
      "{'T1': ['l1', 'l2', 'l5'], 'T2': ['l2', 'l4'], 'T3': ['l2', 'l3'], 'T4': ['l1', 'l2', 'l4'], 'T5': ['l1', 'l3'], 'T6': ['l2', 'l3'], 'T7': ['l1', 'l3'], 'T8': ['l1', 'l2', 'l3', 'l5'], 'T9': ['l1', 'l2', 'l3']}\n"
     ]
    }
   ],
   "source": [
    "from itertools import combinations\n",
    "import json\n",
    "\n",
    "# Read data from the file\n",
    "with open('apriori_transactions.txt', 'r') as file:\n",
    "    data_str = file.read()\n",
    "\n",
    "# Convert the string data to a dictionary\n",
    "transactions = json.loads(data_str)\n",
    "\n",
    "# Print the resulting dictionary\n",
    "print(transactions)\n",
    "\n",
    "# Transaction data\n",
    "# transactions = {\n",
    "#     \"T1\": [\"l1\", \"l2\", \"l5\"],\n",
    "#     \"T2\": [\"l2\",\"l4\"],\n",
    "#     \"T3\": [\"l2\", \"l3\"],\n",
    "#     \"T4\": [\"l1\", \"l2\", \"l4\"],\n",
    "#     \"T5\": [\"l1\", \"l3\"],\n",
    "#     \"T6\": [\"l2\", \"l3\"],\n",
    "#     \"T7\": [\"l1\", \"l3\"],\n",
    "#     \"T8\": [\"l1\", \"l2\", \"l3\", \"l5\"],\n",
    "#     \"T9\": [\"l1\", \"l2\", \"l3\"],\n",
    "# }\n"
   ]
  },
  {
   "cell_type": "markdown",
   "id": "df50d613",
   "metadata": {},
   "source": [
    "### Counting the support of itemsets in transactions"
   ]
  },
  {
   "cell_type": "code",
   "execution_count": 46,
   "id": "9a22b519",
   "metadata": {},
   "outputs": [],
   "source": [
    "# Function to count the support of itemsets in transactions\n",
    "def count_support(itemsets, transactions):\n",
    "    support = {}\n",
    "    \n",
    "    # Loop through each itemset\n",
    "    for itemset in itemsets:\n",
    "        # Loop through each transaction and its associated items\n",
    "        for transaction, items in transactions.items():\n",
    "            # Check if the itemset is a subset of the items in the transaction\n",
    "            if set(itemset).issubset(items):\n",
    "                # If the itemset is a subset, increment its support count\n",
    "                support[itemset] = support.get(itemset, 0) + 1\n",
    "    \n",
    "    return support"
   ]
  },
  {
   "cell_type": "code",
   "execution_count": 47,
   "id": "6af07c18",
   "metadata": {},
   "outputs": [
    {
     "name": "stdout",
     "output_type": "stream",
     "text": [
      "Enter Minimum Support: 2\n"
     ]
    }
   ],
   "source": [
    "# Set the minimum support threshold\n",
    "min_sup = int(input(\"Enter Minimum Support: \"))"
   ]
  },
  {
   "cell_type": "code",
   "execution_count": null,
   "id": "15161974",
   "metadata": {},
   "outputs": [],
   "source": []
  },
  {
   "cell_type": "markdown",
   "id": "38a9d93d",
   "metadata": {},
   "source": [
    "### Calling the functions and printing the frequent itemsets"
   ]
  },
  {
   "cell_type": "code",
   "execution_count": 48,
   "id": "6acff46c",
   "metadata": {
    "scrolled": true
   },
   "outputs": [
    {
     "name": "stdout",
     "output_type": "stream",
     "text": [
      "[frozenset({'l5'})]\n",
      "Itemset: ('l5',), Support: 2\n",
      "[frozenset({'l3'})]\n",
      "Itemset: ('l3',), Support: 6\n",
      "[frozenset({'l1'})]\n",
      "Itemset: ('l1',), Support: 6\n",
      "[frozenset({'l2'})]\n",
      "Itemset: ('l2',), Support: 7\n",
      "[frozenset({'l4'})]\n",
      "Itemset: ('l4',), Support: 2\n",
      "[frozenset({'l5', 'l3'})]\n",
      "[frozenset({'l1', 'l5'})]\n",
      "Itemset: ('l5', 'l1'), Support: 2\n",
      "[frozenset({'l2', 'l5'})]\n",
      "Itemset: ('l5', 'l2'), Support: 2\n",
      "[frozenset({'l4', 'l5'})]\n",
      "[frozenset({'l1', 'l3'})]\n",
      "Itemset: ('l3', 'l1'), Support: 4\n",
      "[frozenset({'l2', 'l3'})]\n",
      "Itemset: ('l3', 'l2'), Support: 4\n",
      "[frozenset({'l4', 'l3'})]\n",
      "[frozenset({'l2', 'l1'})]\n",
      "Itemset: ('l1', 'l2'), Support: 4\n",
      "[frozenset({'l4', 'l1'})]\n",
      "[frozenset({'l2', 'l4'})]\n",
      "Itemset: ('l2', 'l4'), Support: 2\n",
      "[frozenset({'l1', 'l5', 'l3'})]\n",
      "[frozenset({'l2', 'l5', 'l3'})]\n",
      "[frozenset({'l4', 'l5', 'l3'})]\n",
      "[frozenset({'l2', 'l1', 'l5'})]\n",
      "Itemset: ('l5', 'l1', 'l2'), Support: 2\n",
      "[frozenset({'l4', 'l1', 'l5'})]\n",
      "[frozenset({'l2', 'l4', 'l5'})]\n",
      "[frozenset({'l2', 'l1', 'l3'})]\n",
      "Itemset: ('l3', 'l1', 'l2'), Support: 2\n",
      "[frozenset({'l4', 'l1', 'l3'})]\n",
      "[frozenset({'l2', 'l4', 'l3'})]\n",
      "[frozenset({'l2', 'l1', 'l4'})]\n",
      "[frozenset({'l2', 'l1', 'l5', 'l3'})]\n",
      "[frozenset({'l4', 'l1', 'l5', 'l3'})]\n",
      "[frozenset({'l2', 'l4', 'l5', 'l3'})]\n",
      "[frozenset({'l2', 'l1', 'l5', 'l4'})]\n",
      "[frozenset({'l2', 'l1', 'l4', 'l3'})]\n",
      "[frozenset({'l5', 'l3', 'l1', 'l2', 'l4'})]\n"
     ]
    }
   ],
   "source": [
    "distinct_elements = set()\n",
    "for transaction in transactions.values():\n",
    "    distinct_elements.update(transaction)\n",
    "\n",
    "items = list(distinct_elements)\n",
    "\n",
    "\n",
    "# Iterate through possible sizes of combinations starting from size 2\n",
    "for i in range(1, len(items) + 1):\n",
    "    # Generate combinations of itemsets of the current size (i)\n",
    "    combinations_i = list(combinations(items, i))\n",
    "    # Iterate through each combination\n",
    "    for combination in combinations_i:\n",
    "        # Calculate the support of the combination by checking if it's a subset of any transaction\n",
    "        support = count_support([frozenset(combination)], transactions)\n",
    "        \n",
    "        # Check if the support of the combination meets the minimum support threshold\n",
    "        if support.get(frozenset(combination), 0) >= min_sup:\n",
    "            # If it does, print the combination and its support\n",
    "            print(f\"Itemset: {combination}, Support: {support[frozenset(combination)]}\")\n"
   ]
  },
  {
   "cell_type": "code",
   "execution_count": null,
   "id": "875f7bea",
   "metadata": {},
   "outputs": [],
   "source": []
  },
  {
   "cell_type": "code",
   "execution_count": null,
   "id": "8013c011",
   "metadata": {
    "scrolled": false
   },
   "outputs": [],
   "source": []
  },
  {
   "cell_type": "code",
   "execution_count": null,
   "id": "91931a16",
   "metadata": {},
   "outputs": [],
   "source": [
    "\n"
   ]
  },
  {
   "cell_type": "code",
   "execution_count": null,
   "id": "e9ebc6f0",
   "metadata": {},
   "outputs": [],
   "source": [
    "\n",
    "                \n",
    "    "
   ]
  },
  {
   "cell_type": "code",
   "execution_count": null,
   "id": "c1703090",
   "metadata": {},
   "outputs": [],
   "source": []
  }
 ],
 "metadata": {
  "kernelspec": {
   "display_name": "Python 3 (ipykernel)",
   "language": "python",
   "name": "python3"
  },
  "language_info": {
   "codemirror_mode": {
    "name": "ipython",
    "version": 3
   },
   "file_extension": ".py",
   "mimetype": "text/x-python",
   "name": "python",
   "nbconvert_exporter": "python",
   "pygments_lexer": "ipython3",
   "version": "3.9.13"
  }
 },
 "nbformat": 4,
 "nbformat_minor": 5
}
