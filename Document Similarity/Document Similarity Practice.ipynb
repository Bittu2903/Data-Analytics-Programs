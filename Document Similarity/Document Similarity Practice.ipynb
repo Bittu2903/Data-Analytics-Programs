{
 "cells": [
  {
   "cell_type": "code",
   "execution_count": 126,
   "metadata": {},
   "outputs": [],
   "source": [
    "import numpy as np\n",
    "import pandas as pd\n",
    "import math"
   ]
  },
  {
   "cell_type": "markdown",
   "metadata": {},
   "source": [
    "### Reading the data from txt file"
   ]
  },
  {
   "cell_type": "code",
   "execution_count": 127,
   "metadata": {},
   "outputs": [],
   "source": [
    "f = open('sentences.txt')\n",
    "sentences = f.read()\n",
    "clean_data=sentences.replace('\\n', '')"
   ]
  },
  {
   "cell_type": "code",
   "execution_count": 128,
   "metadata": {},
   "outputs": [],
   "source": [
    "sentences = clean_data.split(',')"
   ]
  },
  {
   "cell_type": "markdown",
   "metadata": {},
   "source": [
    "### Creating a word_set to hold all unique words of the document"
   ]
  },
  {
   "cell_type": "code",
   "execution_count": 133,
   "metadata": {},
   "outputs": [],
   "source": [
    "word_set = set()\n",
    "for i in range(len(sentences)):\n",
    "    for j in sentences[i].split():\n",
    "        word_set.add(j.lower())\n",
    "word_set= list(word_set)\n"
   ]
  },
  {
   "cell_type": "markdown",
   "metadata": {},
   "source": [
    "### Building sentence vectors for all sentences in the document"
   ]
  },
  {
   "cell_type": "code",
   "execution_count": 134,
   "metadata": {},
   "outputs": [],
   "source": [
    "sentence_vectors = []\n",
    "diction = {}\n",
    "for i in range(len(sentences)):\n",
    "    for word in word_set:\n",
    "        diction[word] = sentences[i].count(word)\n",
    "    sentence_vectors.append(diction)\n",
    "    diction = {}"
   ]
  },
  {
   "cell_type": "markdown",
   "metadata": {},
   "source": [
    "### Finding cosine similarity here"
   ]
  },
  {
   "cell_type": "code",
   "execution_count": 135,
   "metadata": {},
   "outputs": [],
   "source": [
    "def cosine_distance(vector1, vector2):\n",
    "    dot_product = 0\n",
    "    for i in vector1:\n",
    "        dot_product += (vector1[i] * vector2[i])\n",
    "    sum_of_squares_vector1 = sum(value ** 2 for value in vector1.values())\n",
    "    sum_of_squares_vector2 = sum(value ** 2 for value in vector2.values())\n",
    "\n",
    "    # Calculate the magnitude (mod) using the square root\n",
    "    magnitude1 = math.sqrt(sum_of_squares_vector1)\n",
    "    magnitude2 = math.sqrt(sum_of_squares_vector2)\n",
    "    cross_product = magnitude1 * magnitude2\n",
    "    return dot_product/cross_product"
   ]
  },
  {
   "cell_type": "markdown",
   "metadata": {},
   "source": [
    "### Passing the vectors to find the result and displaying the results"
   ]
  },
  {
   "cell_type": "code",
   "execution_count": 136,
   "metadata": {},
   "outputs": [
    {
     "data": {
      "text/html": [
       "<div>\n",
       "<style scoped>\n",
       "    .dataframe tbody tr th:only-of-type {\n",
       "        vertical-align: middle;\n",
       "    }\n",
       "\n",
       "    .dataframe tbody tr th {\n",
       "        vertical-align: top;\n",
       "    }\n",
       "\n",
       "    .dataframe thead th {\n",
       "        text-align: right;\n",
       "    }\n",
       "</style>\n",
       "<table border=\"1\" class=\"dataframe\">\n",
       "  <thead>\n",
       "    <tr style=\"text-align: right;\">\n",
       "      <th></th>\n",
       "      <th>0</th>\n",
       "      <th>1</th>\n",
       "      <th>2</th>\n",
       "      <th>3</th>\n",
       "      <th>4</th>\n",
       "    </tr>\n",
       "  </thead>\n",
       "  <tbody>\n",
       "    <tr>\n",
       "      <th>0</th>\n",
       "      <td>1.000</td>\n",
       "      <td>0.907</td>\n",
       "      <td>0.787</td>\n",
       "      <td>0.346</td>\n",
       "      <td>0.678</td>\n",
       "    </tr>\n",
       "    <tr>\n",
       "      <th>1</th>\n",
       "      <td>0.907</td>\n",
       "      <td>1.000</td>\n",
       "      <td>0.741</td>\n",
       "      <td>0.373</td>\n",
       "      <td>0.688</td>\n",
       "    </tr>\n",
       "    <tr>\n",
       "      <th>2</th>\n",
       "      <td>0.787</td>\n",
       "      <td>0.741</td>\n",
       "      <td>1.000</td>\n",
       "      <td>0.341</td>\n",
       "      <td>0.667</td>\n",
       "    </tr>\n",
       "    <tr>\n",
       "      <th>3</th>\n",
       "      <td>0.346</td>\n",
       "      <td>0.373</td>\n",
       "      <td>0.341</td>\n",
       "      <td>1.000</td>\n",
       "      <td>0.294</td>\n",
       "    </tr>\n",
       "    <tr>\n",
       "      <th>4</th>\n",
       "      <td>0.678</td>\n",
       "      <td>0.688</td>\n",
       "      <td>0.667</td>\n",
       "      <td>0.294</td>\n",
       "      <td>1.000</td>\n",
       "    </tr>\n",
       "  </tbody>\n",
       "</table>\n",
       "</div>"
      ],
      "text/plain": [
       "       0      1      2      3      4\n",
       "0  1.000  0.907  0.787  0.346  0.678\n",
       "1  0.907  1.000  0.741  0.373  0.688\n",
       "2  0.787  0.741  1.000  0.341  0.667\n",
       "3  0.346  0.373  0.341  1.000  0.294\n",
       "4  0.678  0.688  0.667  0.294  1.000"
      ]
     },
     "execution_count": 136,
     "metadata": {},
     "output_type": "execute_result"
    }
   ],
   "source": [
    "similarity_matrix = []\n",
    "for i in range(len(sentence_vectors)):\n",
    "    similarity_matrix.append([])\n",
    "    for j in range(len(sentence_vectors)):\n",
    "        similarity_matrix[i].append(round(cosine_distance(sentence_vectors[i],sentence_vectors[j]),3))\n",
    "df = pd.DataFrame(similarity_matrix)\n",
    "df"
   ]
  },
  {
   "cell_type": "code",
   "execution_count": null,
   "metadata": {},
   "outputs": [],
   "source": []
  }
 ],
 "metadata": {
  "kernelspec": {
   "display_name": "Python 3 (ipykernel)",
   "language": "python",
   "name": "python3"
  },
  "language_info": {
   "codemirror_mode": {
    "name": "ipython",
    "version": 3
   },
   "file_extension": ".py",
   "mimetype": "text/x-python",
   "name": "python",
   "nbconvert_exporter": "python",
   "pygments_lexer": "ipython3",
   "version": "3.9.13"
  }
 },
 "nbformat": 4,
 "nbformat_minor": 4
}
