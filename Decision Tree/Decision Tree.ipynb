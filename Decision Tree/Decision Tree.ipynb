{
 "cells": [
  {
   "cell_type": "code",
   "execution_count": 1,
   "id": "56d287d3",
   "metadata": {},
   "outputs": [],
   "source": [
    "import pandas as pd\n",
    "import math"
   ]
  },
  {
   "cell_type": "code",
   "execution_count": 2,
   "id": "2b8d9b3c",
   "metadata": {},
   "outputs": [
    {
     "data": {
      "text/html": [
       "<div>\n",
       "<style scoped>\n",
       "    .dataframe tbody tr th:only-of-type {\n",
       "        vertical-align: middle;\n",
       "    }\n",
       "\n",
       "    .dataframe tbody tr th {\n",
       "        vertical-align: top;\n",
       "    }\n",
       "\n",
       "    .dataframe thead th {\n",
       "        text-align: right;\n",
       "    }\n",
       "</style>\n",
       "<table border=\"1\" class=\"dataframe\">\n",
       "  <thead>\n",
       "    <tr style=\"text-align: right;\">\n",
       "      <th></th>\n",
       "      <th>Age</th>\n",
       "      <th>Income</th>\n",
       "      <th>Student</th>\n",
       "      <th>Credit_rating</th>\n",
       "      <th>Buys_computer</th>\n",
       "    </tr>\n",
       "  </thead>\n",
       "  <tbody>\n",
       "    <tr>\n",
       "      <th>0</th>\n",
       "      <td>&lt;=30</td>\n",
       "      <td>High</td>\n",
       "      <td>No</td>\n",
       "      <td>Fair</td>\n",
       "      <td>No</td>\n",
       "    </tr>\n",
       "    <tr>\n",
       "      <th>1</th>\n",
       "      <td>&lt;=30</td>\n",
       "      <td>High</td>\n",
       "      <td>No</td>\n",
       "      <td>Excellent</td>\n",
       "      <td>No</td>\n",
       "    </tr>\n",
       "    <tr>\n",
       "      <th>2</th>\n",
       "      <td>31…40</td>\n",
       "      <td>High</td>\n",
       "      <td>No</td>\n",
       "      <td>Fair</td>\n",
       "      <td>Yes</td>\n",
       "    </tr>\n",
       "    <tr>\n",
       "      <th>3</th>\n",
       "      <td>&gt;40</td>\n",
       "      <td>Medium</td>\n",
       "      <td>No</td>\n",
       "      <td>Fair</td>\n",
       "      <td>Yes</td>\n",
       "    </tr>\n",
       "    <tr>\n",
       "      <th>4</th>\n",
       "      <td>&gt;40</td>\n",
       "      <td>Low</td>\n",
       "      <td>Yes</td>\n",
       "      <td>Fair</td>\n",
       "      <td>Yes</td>\n",
       "    </tr>\n",
       "    <tr>\n",
       "      <th>5</th>\n",
       "      <td>&gt;40</td>\n",
       "      <td>Low</td>\n",
       "      <td>Yes</td>\n",
       "      <td>Excellent</td>\n",
       "      <td>No</td>\n",
       "    </tr>\n",
       "    <tr>\n",
       "      <th>6</th>\n",
       "      <td>31…40</td>\n",
       "      <td>Low</td>\n",
       "      <td>Yes</td>\n",
       "      <td>Excellent</td>\n",
       "      <td>Yes</td>\n",
       "    </tr>\n",
       "    <tr>\n",
       "      <th>7</th>\n",
       "      <td>&lt;=30</td>\n",
       "      <td>Medium</td>\n",
       "      <td>No</td>\n",
       "      <td>Fair</td>\n",
       "      <td>No</td>\n",
       "    </tr>\n",
       "    <tr>\n",
       "      <th>8</th>\n",
       "      <td>&lt;=30</td>\n",
       "      <td>Low</td>\n",
       "      <td>Yes</td>\n",
       "      <td>Fair</td>\n",
       "      <td>Yes</td>\n",
       "    </tr>\n",
       "    <tr>\n",
       "      <th>9</th>\n",
       "      <td>&gt;40</td>\n",
       "      <td>Medium</td>\n",
       "      <td>Yes</td>\n",
       "      <td>Fair</td>\n",
       "      <td>Yes</td>\n",
       "    </tr>\n",
       "    <tr>\n",
       "      <th>10</th>\n",
       "      <td>&lt;=30</td>\n",
       "      <td>Medium</td>\n",
       "      <td>Yes</td>\n",
       "      <td>Excellent</td>\n",
       "      <td>Yes</td>\n",
       "    </tr>\n",
       "    <tr>\n",
       "      <th>11</th>\n",
       "      <td>31…40</td>\n",
       "      <td>Medium</td>\n",
       "      <td>No</td>\n",
       "      <td>Excellent</td>\n",
       "      <td>Yes</td>\n",
       "    </tr>\n",
       "    <tr>\n",
       "      <th>12</th>\n",
       "      <td>31…40</td>\n",
       "      <td>High</td>\n",
       "      <td>Yes</td>\n",
       "      <td>Fair</td>\n",
       "      <td>Yes</td>\n",
       "    </tr>\n",
       "    <tr>\n",
       "      <th>13</th>\n",
       "      <td>&gt;40</td>\n",
       "      <td>Medium</td>\n",
       "      <td>No</td>\n",
       "      <td>Excellent</td>\n",
       "      <td>No</td>\n",
       "    </tr>\n",
       "  </tbody>\n",
       "</table>\n",
       "</div>"
      ],
      "text/plain": [
       "      Age  Income Student Credit_rating Buys_computer\n",
       "0    <=30    High      No          Fair            No\n",
       "1    <=30    High      No     Excellent            No\n",
       "2   31…40    High      No          Fair           Yes\n",
       "3     >40  Medium      No          Fair           Yes\n",
       "4     >40     Low     Yes          Fair           Yes\n",
       "5     >40     Low     Yes     Excellent            No\n",
       "6   31…40     Low     Yes     Excellent           Yes\n",
       "7    <=30  Medium      No          Fair            No\n",
       "8    <=30     Low     Yes          Fair           Yes\n",
       "9     >40  Medium     Yes          Fair           Yes\n",
       "10   <=30  Medium     Yes     Excellent           Yes\n",
       "11  31…40  Medium      No     Excellent           Yes\n",
       "12  31…40    High     Yes          Fair           Yes\n",
       "13    >40  Medium      No     Excellent            No"
      ]
     },
     "execution_count": 2,
     "metadata": {},
     "output_type": "execute_result"
    }
   ],
   "source": [
    "\n",
    "# Define the dataset\n",
    "data = {\n",
    "    'Age': ['<=30', '<=30', '31…40', '>40', '>40', '>40', '31…40', '<=30', '<=30', '>40', '<=30', '31…40', '31…40', '>40'],\n",
    "    'Income': ['High', 'High', 'High', 'Medium', 'Low', 'Low', 'Low', 'Medium', 'Low', 'Medium', 'Medium', 'Medium', 'High', 'Medium'],\n",
    "    'Student': ['No', 'No', 'No', 'No', 'Yes', 'Yes', 'Yes', 'No', 'Yes', 'Yes', 'Yes', 'No', 'Yes', 'No'],\n",
    "    'Credit_rating': ['Fair', 'Excellent', 'Fair', 'Fair', 'Fair', 'Excellent', 'Excellent', 'Fair', 'Fair', 'Fair', 'Excellent', 'Excellent', 'Fair', 'Excellent'],\n",
    "    'Buys_computer': ['No', 'No', 'Yes', 'Yes', 'Yes', 'No', 'Yes', 'No', 'Yes', 'Yes', 'Yes', 'Yes', 'Yes', 'No']\n",
    "}\n",
    "\n",
    "df = pd.DataFrame(data)\n",
    "df\n"
   ]
  },
  {
   "cell_type": "code",
   "execution_count": 4,
   "id": "8cbb6d47",
   "metadata": {},
   "outputs": [],
   "source": [
    "def entropy(data):\n",
    "    total = len(data)\n",
    "    if total == 0:\n",
    "        return 0\n",
    "    \n",
    "    positive = len(data[data['Buys_computer'] == 'Yes'])\n",
    "    negative = len(data[data['Buys_computer'] == 'No'])\n",
    "    \n",
    "    if positive == 0 or negative == 0:\n",
    "        return 0\n",
    "    \n",
    "    p_positive = positive / total\n",
    "    p_negative = negative / total    \n",
    "\n",
    "    return - (p_positive * math.log2(p_positive) + p_negative * math.log2(p_negative))"
   ]
  },
  {
   "cell_type": "code",
   "execution_count": 5,
   "id": "efe2b948",
   "metadata": {},
   "outputs": [],
   "source": [
    "def information_gain(data, attribute):\n",
    "    entropy_total = entropy(data)\n",
    "    unique_values = data[attribute].unique()\n",
    "    weighted_entropy = 0\n",
    "    \n",
    "    for value in unique_values:\n",
    "        subset = data[data[attribute] == value]\n",
    "        subset_entropy = entropy(subset)\n",
    "        subset_weight = len(subset) / len(data)\n",
    "        weighted_entropy += subset_weight * subset_entropy\n",
    "#     print(\"Information Gain on attribute :\", attribute,' is ', entropy_total - weighted_entropy)\n",
    "    return entropy_total - weighted_entropy\n"
   ]
  },
  {
   "cell_type": "code",
   "execution_count": 6,
   "id": "908c8670",
   "metadata": {},
   "outputs": [],
   "source": [
    "def build_decision_tree(data, features):\n",
    "    if len(data) == 0: # if no data is present in datatable\n",
    "        return \"No\"\n",
    "    elif len(data['Buys_computer'].unique()) == 1: # if only yes or only no is there as buys_computer\n",
    "        return data['Buys_computer'].iloc[0]\n",
    "    elif len(features) == 0: # if there are no feature into consideration\n",
    "        return data['Buys_computer'].mode().iloc[0]\n",
    "    else: \n",
    "        print('---------------*-------------')\n",
    "        best_attribute = max(features, key=lambda attr: information_gain(data, attr)) # choosing best feature among features using most information_gain\n",
    "        tree = {best_attribute: {}}\n",
    "        unique_values = data[best_attribute].unique() # finding all unique values in attributes colums\n",
    "        for value in unique_values:\n",
    "            subset = data[data[best_attribute] == value]\n",
    "            new_features = [feature for feature in features if feature != best_attribute]\n",
    "            subtree = build_decision_tree(subset, new_features) # using recursion on sub tree\n",
    "            tree[best_attribute][value] = subtree\n",
    "#             print(tree)\n",
    "        return tree\n"
   ]
  },
  {
   "cell_type": "code",
   "execution_count": 7,
   "id": "920d189d",
   "metadata": {},
   "outputs": [
    {
     "name": "stdout",
     "output_type": "stream",
     "text": [
      "All features are: ['Age', 'Income', 'Student', 'Credit_rating', 'Buys_computer']\n",
      "Features into consideration are: ['Age', 'Income', 'Student', 'Credit_rating']\n"
     ]
    }
   ],
   "source": [
    "features = list(df.columns)\n",
    "print('All features are:',features)\n",
    "features.remove('Buys_computer')\n",
    "print('Features into consideration are:',features)"
   ]
  },
  {
   "cell_type": "code",
   "execution_count": 8,
   "id": "3f4a79b0",
   "metadata": {
    "scrolled": true
   },
   "outputs": [
    {
     "name": "stdout",
     "output_type": "stream",
     "text": [
      "---------------*-------------\n",
      "---------------*-------------\n",
      "---------------*-------------\n"
     ]
    },
    {
     "data": {
      "text/plain": [
       "{'Age': {'<=30': {'Student': {'No': 'No', 'Yes': 'Yes'}},\n",
       "  '31…40': 'Yes',\n",
       "  '>40': {'Credit_rating': {'Fair': 'Yes', 'Excellent': 'No'}}}}"
      ]
     },
     "execution_count": 8,
     "metadata": {},
     "output_type": "execute_result"
    }
   ],
   "source": [
    "decision_tree = build_decision_tree(df, features)\n",
    "# print(decision_tree)\n",
    "decision_tree"
   ]
  },
  {
   "cell_type": "code",
   "execution_count": 9,
   "id": "2d4e1859",
   "metadata": {},
   "outputs": [
    {
     "name": "stdout",
     "output_type": "stream",
     "text": [
      "Age\n",
      "    \\\n",
      "\t<=30\n",
      "\t    \\\n",
      "\t\tStudent\n",
      "\t\t    \\\n",
      "\t\t\tNo\n",
      "\t\t\t    \\\n",
      "\t\t\t\tNo\n",
      "\t\t\tYes\n",
      "\t\t\t    \\\n",
      "\t\t\t\tYes\n",
      "\t31…40\n",
      "\t    \\\n",
      "\t\tYes\n",
      "\t>40\n",
      "\t    \\\n",
      "\t\tCredit_rating\n",
      "\t\t    \\\n",
      "\t\t\tFair\n",
      "\t\t\t    \\\n",
      "\t\t\t\tYes\n",
      "\t\t\tExcellent\n",
      "\t\t\t    \\\n",
      "\t\t\t\tNo\n"
     ]
    }
   ],
   "source": [
    "def formatData(t,s):\n",
    "    if not isinstance(t,dict) and not isinstance(t,list):\n",
    "        print(\"\\t\"*s+str(t))\n",
    "    else:\n",
    "        for key in t:\n",
    "            print(\"\\t\"*s+str(key))\n",
    "            print(\"\\t\"*s+\"    \\\\\")\n",
    "            if not isinstance(t,list):\n",
    "                formatData(t[key],s+1)\n",
    "\n",
    "formatData(decision_tree,0)"
   ]
  },
  {
   "cell_type": "code",
   "execution_count": 13,
   "id": "3e979f6c",
   "metadata": {
    "scrolled": true
   },
   "outputs": [
    {
     "name": "stdout",
     "output_type": "stream",
     "text": [
      "Enter age: 45\n",
      "Enter credit rating: Excellent\n",
      "Buys Computer: No\n"
     ]
    }
   ],
   "source": [
    "age = int(input(\"Enter age: \"))\n",
    "keys = decision_tree.keys()\n",
    "if age > 40:\n",
    "    age = '>40'\n",
    "elif age > 30 and age <= 40:\n",
    "    age= '31…40'\n",
    "else:\n",
    "    age = '<=30'\n",
    "key = ''\n",
    "for k in keys:\n",
    "    key = k\n",
    "classified = decision_tree[key][age]\n",
    "# print(classified)\n",
    "\n",
    "buys_computer = ['Yes','No']\n",
    "\n",
    "if classified not in buys_computer:\n",
    "    keys = classified\n",
    "    key = ''\n",
    "    for k in keys:\n",
    "        key = k\n",
    "    if key == 'Student':\n",
    "        is_student = input(\"Enter student or not: \")\n",
    "        classified = classified[key][is_student]\n",
    "    elif key == 'Credit_rating':\n",
    "        credit_rating = input(\"Enter credit rating: \")\n",
    "        classified = classified[key][credit_rating]\n",
    "print(f'Buys Computer: {classified}')"
   ]
  },
  {
   "cell_type": "code",
   "execution_count": null,
   "id": "36245998",
   "metadata": {},
   "outputs": [],
   "source": []
  },
  {
   "cell_type": "code",
   "execution_count": null,
   "id": "abe1af64",
   "metadata": {},
   "outputs": [],
   "source": []
  }
 ],
 "metadata": {
  "kernelspec": {
   "display_name": "Python 3 (ipykernel)",
   "language": "python",
   "name": "python3"
  },
  "language_info": {
   "codemirror_mode": {
    "name": "ipython",
    "version": 3
   },
   "file_extension": ".py",
   "mimetype": "text/x-python",
   "name": "python",
   "nbconvert_exporter": "python",
   "pygments_lexer": "ipython3",
   "version": "3.9.13"
  }
 },
 "nbformat": 4,
 "nbformat_minor": 5
}
